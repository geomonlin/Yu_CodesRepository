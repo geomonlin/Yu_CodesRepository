{
 "cells": [
  {
   "cell_type": "code",
   "execution_count": 127,
   "metadata": {},
   "outputs": [],
   "source": [
    "class Solution:\n",
    "    def decode_one_pair(self,s,left,right):\n",
    "        num, index = self.find_number(s,left)\n",
    "        return s[:index+1] + num*s[left+1:right] + s[right+1:] \n",
    "    \n",
    "    def find_number(self,s,left):\n",
    "        i = left - 1\n",
    "        n_str = \"\"\n",
    "        while i>=0 and s[i] >= '0' and s[i] <= '9':\n",
    "            n_str = s[i] + n_str\n",
    "            i -= 1\n",
    "        return int(n_str),i\n",
    "    \n",
    "    def find_first_brackets(self,s):\n",
    "        left,right = None,None\n",
    "        level = 0\n",
    "        for i,c in enumerate(s):\n",
    "            if c == '[': \n",
    "                if level == 0: left = i\n",
    "                level += 1\n",
    "            if c == ']':\n",
    "                level -= 1\n",
    "                if level == 0: \n",
    "                    right = i\n",
    "                    return left,right\n",
    "        return left,right\n",
    "            \n",
    "    def decodeString(self, s: str) -> str:\n",
    "        #brute force\n",
    "        left,right = self.find_first_brackets(s)\n",
    "        while left != None:\n",
    "            s = self.decode_one_pair(s,left,right)\n",
    "            left,right = self.find_first_brackets(s)\n",
    "        return s"
   ]
  },
  {
   "cell_type": "code",
   "execution_count": 128,
   "metadata": {},
   "outputs": [
    {
     "data": {
      "text/plain": [
       "'aaabFFFFcbFFFFc'"
      ]
     },
     "execution_count": 128,
     "metadata": {},
     "output_type": "execute_result"
    }
   ],
   "source": [
    "s = Solution()\n",
    "s.decodeString(\"3[a]2[b4[F]c]\")"
   ]
  },
  {
   "cell_type": "code",
   "execution_count": null,
   "metadata": {},
   "outputs": [],
   "source": []
  }
 ],
 "metadata": {
  "kernelspec": {
   "display_name": "Python 3",
   "language": "python",
   "name": "python3"
  },
  "language_info": {
   "codemirror_mode": {
    "name": "ipython",
    "version": 3
   },
   "file_extension": ".py",
   "mimetype": "text/x-python",
   "name": "python",
   "nbconvert_exporter": "python",
   "pygments_lexer": "ipython3",
   "version": "3.6.5"
  }
 },
 "nbformat": 4,
 "nbformat_minor": 2
}
