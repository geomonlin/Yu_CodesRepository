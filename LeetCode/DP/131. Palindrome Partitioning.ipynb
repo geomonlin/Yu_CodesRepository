{
 "cells": [
  {
   "cell_type": "code",
   "execution_count": 107,
   "metadata": {},
   "outputs": [],
   "source": [
    "class Solution(object):\n",
    "    def __init__(self):\n",
    "        self.res = []\n",
    "    \n",
    "    def partition(self, s):\n",
    "        \"\"\"\n",
    "        :type s: str\n",
    "        :rtype: List[List[str]]\n",
    "        \"\"\"\n",
    "        if not s:\n",
    "            return self.res\n",
    "        \n",
    "        arr = list(s)\n",
    "        self.res.append(arr)\n",
    "        \n",
    "        \n",
    "        for t in range(1, len(arr)):\n",
    "            for i in range(t):\n",
    "                s_temp = arr[i:t+1]\n",
    "                if self.isPalindrome(s_temp):\n",
    "                    temp = arr[:i] + arr[t+1:]\n",
    "                    temp.insert(i,\"\".join(s_temp))\n",
    "                    self.res.append(temp)\n",
    "        return self.res\n",
    "            \n",
    "    def isPalindrome(self, s):\n",
    "        for i in range(len(s)):\n",
    "            if s[i] != s[len(s)-i-1]:\n",
    "                return False\n",
    "        return True"
   ]
  },
  {
   "cell_type": "code",
   "execution_count": 110,
   "metadata": {},
   "outputs": [
    {
     "name": "stdout",
     "output_type": "stream",
     "text": [
      "[['c', 'a', 'a', 'b', 'a', 'a', 'd'], ['c', 'aa', 'b', 'a', 'a', 'd'], ['c', 'a', 'aba', 'a', 'd'], ['c', 'aabaa', 'd'], ['c', 'a', 'a', 'b', 'aa', 'd']]\n"
     ]
    }
   ],
   "source": [
    "s = Solution()\n",
    "print(s.partition(\"caabaad\"))"
   ]
  },
  {
   "cell_type": "code",
   "execution_count": null,
   "metadata": {},
   "outputs": [],
   "source": []
  }
 ],
 "metadata": {
  "kernelspec": {
   "display_name": "Python 3",
   "language": "python",
   "name": "python3"
  },
  "language_info": {
   "codemirror_mode": {
    "name": "ipython",
    "version": 3
   },
   "file_extension": ".py",
   "mimetype": "text/x-python",
   "name": "python",
   "nbconvert_exporter": "python",
   "pygments_lexer": "ipython3",
   "version": "3.6.5"
  }
 },
 "nbformat": 4,
 "nbformat_minor": 2
}
